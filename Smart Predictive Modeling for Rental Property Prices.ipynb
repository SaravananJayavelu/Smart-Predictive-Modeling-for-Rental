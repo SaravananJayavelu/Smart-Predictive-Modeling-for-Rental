{
 "cells": [
  {
   "cell_type": "code",
   "execution_count": 1,
   "metadata": {},
   "outputs": [],
   "source": [
    "import pandas as pd  \n",
    "import numpy as np\n",
    "import seaborn  as sns\n",
    "import matplotlib.pyplot as plt  \n",
    "from sklearn.impute import SimpleImputer\n",
    "from sklearn.preprocessing import StandardScaler, LabelEncoder\n",
    "from sklearn.ensemble import IsolationForest\n",
    "from sklearn.feature_selection import SelectKBest,f_regression\n"
   ]
  },
  {
   "cell_type": "code",
   "execution_count": 2,
   "metadata": {},
   "outputs": [],
   "source": [
    "df = pd.read_excel(\"House_Rent_Train.xlsx\")"
   ]
  },
  {
   "cell_type": "code",
   "execution_count": 3,
   "metadata": {},
   "outputs": [
    {
     "data": {
      "text/html": [
       "<div>\n",
       "<style scoped>\n",
       "    .dataframe tbody tr th:only-of-type {\n",
       "        vertical-align: middle;\n",
       "    }\n",
       "\n",
       "    .dataframe tbody tr th {\n",
       "        vertical-align: top;\n",
       "    }\n",
       "\n",
       "    .dataframe thead th {\n",
       "        text-align: right;\n",
       "    }\n",
       "</style>\n",
       "<table border=\"1\" class=\"dataframe\">\n",
       "  <thead>\n",
       "    <tr style=\"text-align: right;\">\n",
       "      <th></th>\n",
       "      <th>id</th>\n",
       "      <th>type</th>\n",
       "      <th>locality</th>\n",
       "      <th>activation_date</th>\n",
       "      <th>latitude</th>\n",
       "      <th>longitude</th>\n",
       "      <th>lease_type</th>\n",
       "      <th>gym</th>\n",
       "      <th>lift</th>\n",
       "      <th>swimming_pool</th>\n",
       "      <th>...</th>\n",
       "      <th>bathroom</th>\n",
       "      <th>facing</th>\n",
       "      <th>cup_board</th>\n",
       "      <th>floor</th>\n",
       "      <th>total_floor</th>\n",
       "      <th>amenities</th>\n",
       "      <th>water_supply</th>\n",
       "      <th>building_type</th>\n",
       "      <th>balconies</th>\n",
       "      <th>rent</th>\n",
       "    </tr>\n",
       "  </thead>\n",
       "  <tbody>\n",
       "    <tr>\n",
       "      <th>0</th>\n",
       "      <td>ff8081815733a243015733b2876600a6</td>\n",
       "      <td>BHK2</td>\n",
       "      <td>NaN</td>\n",
       "      <td>21-04-2018 14:44</td>\n",
       "      <td>12.934471</td>\n",
       "      <td>77.634471</td>\n",
       "      <td>FAMILY</td>\n",
       "      <td>1</td>\n",
       "      <td>1</td>\n",
       "      <td>1</td>\n",
       "      <td>...</td>\n",
       "      <td>2.0</td>\n",
       "      <td>E</td>\n",
       "      <td>2.0</td>\n",
       "      <td>6.0</td>\n",
       "      <td>12.0</td>\n",
       "      <td>{\"LIFT\":true,\"GYM\":true,\"INTERNET\":true,\"AC\":f...</td>\n",
       "      <td>CORP_BORE</td>\n",
       "      <td>AP</td>\n",
       "      <td>2.0</td>\n",
       "      <td>40000.0</td>\n",
       "    </tr>\n",
       "    <tr>\n",
       "      <th>1</th>\n",
       "      <td>ff8081815ee25e15015ee50004da2acd</td>\n",
       "      <td>BHK2</td>\n",
       "      <td>Bellandur</td>\n",
       "      <td>2017-09-10 12:48:00</td>\n",
       "      <td>12.929557</td>\n",
       "      <td>77.672280</td>\n",
       "      <td>ANYONE</td>\n",
       "      <td>0</td>\n",
       "      <td>1</td>\n",
       "      <td>0</td>\n",
       "      <td>...</td>\n",
       "      <td>2.0</td>\n",
       "      <td>NE</td>\n",
       "      <td>2.0</td>\n",
       "      <td>3.0</td>\n",
       "      <td>4.0</td>\n",
       "      <td>{\"LIFT\":true,\"GYM\":false,\"INTERNET\":false,\"AC\"...</td>\n",
       "      <td>CORPORATION</td>\n",
       "      <td>AP</td>\n",
       "      <td>2.0</td>\n",
       "      <td>22000.0</td>\n",
       "    </tr>\n",
       "    <tr>\n",
       "      <th>2</th>\n",
       "      <td>ff80818163f29c9e0163f46770b873e7</td>\n",
       "      <td>BHK3</td>\n",
       "      <td>Thiruvanmiyur</td>\n",
       "      <td>2018-12-06 22:02:00</td>\n",
       "      <td>12.982870</td>\n",
       "      <td>80.262012</td>\n",
       "      <td>FAMILY</td>\n",
       "      <td>0</td>\n",
       "      <td>1</td>\n",
       "      <td>0</td>\n",
       "      <td>...</td>\n",
       "      <td>3.0</td>\n",
       "      <td>E</td>\n",
       "      <td>3.0</td>\n",
       "      <td>1.0</td>\n",
       "      <td>5.0</td>\n",
       "      <td>{\"LIFT\":true,\"GYM\":false,\"INTERNET\":false,\"AC\"...</td>\n",
       "      <td>CORP_BORE</td>\n",
       "      <td>AP</td>\n",
       "      <td>3.0</td>\n",
       "      <td>28000.0</td>\n",
       "    </tr>\n",
       "    <tr>\n",
       "      <th>3</th>\n",
       "      <td>ff80818164b68a700164b74b1b247a1d</td>\n",
       "      <td>BHK1</td>\n",
       "      <td>Attiguppe</td>\n",
       "      <td>20-07-2018 16:22</td>\n",
       "      <td>12.955991</td>\n",
       "      <td>77.531634</td>\n",
       "      <td>FAMILY</td>\n",
       "      <td>0</td>\n",
       "      <td>0</td>\n",
       "      <td>0</td>\n",
       "      <td>...</td>\n",
       "      <td>1.0</td>\n",
       "      <td>E</td>\n",
       "      <td>1.0</td>\n",
       "      <td>1.0</td>\n",
       "      <td>2.0</td>\n",
       "      <td>{\"LIFT\":false,\"GYM\":false,\"INTERNET\":false,\"AC...</td>\n",
       "      <td>CORPORATION</td>\n",
       "      <td>IH</td>\n",
       "      <td>0.0</td>\n",
       "      <td>8000.0</td>\n",
       "    </tr>\n",
       "    <tr>\n",
       "      <th>4</th>\n",
       "      <td>ff80818163b1faf00163b4b9b8a163b1</td>\n",
       "      <td>BHK3</td>\n",
       "      <td>Kodihalli</td>\n",
       "      <td>31-05-2018 17:41</td>\n",
       "      <td>12.963903</td>\n",
       "      <td>77.649446</td>\n",
       "      <td>FAMILY</td>\n",
       "      <td>0</td>\n",
       "      <td>0</td>\n",
       "      <td>0</td>\n",
       "      <td>...</td>\n",
       "      <td>3.0</td>\n",
       "      <td>E</td>\n",
       "      <td>4.0</td>\n",
       "      <td>0.0</td>\n",
       "      <td>0.0</td>\n",
       "      <td>{\"LIFT\":false,\"GYM\":false,\"INTERNET\":false,\"AC...</td>\n",
       "      <td>CORPORATION</td>\n",
       "      <td>IH</td>\n",
       "      <td>1.0</td>\n",
       "      <td>45000.0</td>\n",
       "    </tr>\n",
       "  </tbody>\n",
       "</table>\n",
       "<p>5 rows × 25 columns</p>\n",
       "</div>"
      ],
      "text/plain": [
       "                                 id  type       locality      activation_date  \\\n",
       "0  ff8081815733a243015733b2876600a6  BHK2            NaN     21-04-2018 14:44   \n",
       "1  ff8081815ee25e15015ee50004da2acd  BHK2      Bellandur  2017-09-10 12:48:00   \n",
       "2  ff80818163f29c9e0163f46770b873e7  BHK3  Thiruvanmiyur  2018-12-06 22:02:00   \n",
       "3  ff80818164b68a700164b74b1b247a1d  BHK1      Attiguppe     20-07-2018 16:22   \n",
       "4  ff80818163b1faf00163b4b9b8a163b1  BHK3      Kodihalli     31-05-2018 17:41   \n",
       "\n",
       "    latitude  longitude lease_type  gym  lift  swimming_pool  ...  bathroom  \\\n",
       "0  12.934471  77.634471     FAMILY    1     1              1  ...       2.0   \n",
       "1  12.929557  77.672280     ANYONE    0     1              0  ...       2.0   \n",
       "2  12.982870  80.262012     FAMILY    0     1              0  ...       3.0   \n",
       "3  12.955991  77.531634     FAMILY    0     0              0  ...       1.0   \n",
       "4  12.963903  77.649446     FAMILY    0     0              0  ...       3.0   \n",
       "\n",
       "  facing cup_board  floor  total_floor  \\\n",
       "0      E       2.0    6.0         12.0   \n",
       "1     NE       2.0    3.0          4.0   \n",
       "2      E       3.0    1.0          5.0   \n",
       "3      E       1.0    1.0          2.0   \n",
       "4      E       4.0    0.0          0.0   \n",
       "\n",
       "                                           amenities water_supply  \\\n",
       "0  {\"LIFT\":true,\"GYM\":true,\"INTERNET\":true,\"AC\":f...    CORP_BORE   \n",
       "1  {\"LIFT\":true,\"GYM\":false,\"INTERNET\":false,\"AC\"...  CORPORATION   \n",
       "2  {\"LIFT\":true,\"GYM\":false,\"INTERNET\":false,\"AC\"...    CORP_BORE   \n",
       "3  {\"LIFT\":false,\"GYM\":false,\"INTERNET\":false,\"AC...  CORPORATION   \n",
       "4  {\"LIFT\":false,\"GYM\":false,\"INTERNET\":false,\"AC...  CORPORATION   \n",
       "\n",
       "   building_type  balconies     rent  \n",
       "0             AP        2.0  40000.0  \n",
       "1             AP        2.0  22000.0  \n",
       "2             AP        3.0  28000.0  \n",
       "3             IH        0.0   8000.0  \n",
       "4             IH        1.0  45000.0  \n",
       "\n",
       "[5 rows x 25 columns]"
      ]
     },
     "execution_count": 3,
     "metadata": {},
     "output_type": "execute_result"
    }
   ],
   "source": [
    "df.head()"
   ]
  },
  {
   "cell_type": "code",
   "execution_count": 4,
   "metadata": {},
   "outputs": [
    {
     "data": {
      "text/html": [
       "<div>\n",
       "<style scoped>\n",
       "    .dataframe tbody tr th:only-of-type {\n",
       "        vertical-align: middle;\n",
       "    }\n",
       "\n",
       "    .dataframe tbody tr th {\n",
       "        vertical-align: top;\n",
       "    }\n",
       "\n",
       "    .dataframe thead th {\n",
       "        text-align: right;\n",
       "    }\n",
       "</style>\n",
       "<table border=\"1\" class=\"dataframe\">\n",
       "  <thead>\n",
       "    <tr style=\"text-align: right;\">\n",
       "      <th></th>\n",
       "      <th>id</th>\n",
       "      <th>type</th>\n",
       "      <th>locality</th>\n",
       "      <th>activation_date</th>\n",
       "      <th>latitude</th>\n",
       "      <th>longitude</th>\n",
       "      <th>lease_type</th>\n",
       "      <th>gym</th>\n",
       "      <th>lift</th>\n",
       "      <th>swimming_pool</th>\n",
       "      <th>...</th>\n",
       "      <th>bathroom</th>\n",
       "      <th>facing</th>\n",
       "      <th>cup_board</th>\n",
       "      <th>floor</th>\n",
       "      <th>total_floor</th>\n",
       "      <th>amenities</th>\n",
       "      <th>water_supply</th>\n",
       "      <th>building_type</th>\n",
       "      <th>balconies</th>\n",
       "      <th>rent</th>\n",
       "    </tr>\n",
       "  </thead>\n",
       "  <tbody>\n",
       "    <tr>\n",
       "      <th>20550</th>\n",
       "      <td>19</td>\n",
       "      <td>NaN</td>\n",
       "      <td>NaN</td>\n",
       "      <td>NaN</td>\n",
       "      <td>NaN</td>\n",
       "      <td>NaN</td>\n",
       "      <td>NaN</td>\n",
       "      <td>1</td>\n",
       "      <td>1</td>\n",
       "      <td>1</td>\n",
       "      <td>...</td>\n",
       "      <td>NaN</td>\n",
       "      <td>NaN</td>\n",
       "      <td>NaN</td>\n",
       "      <td>NaN</td>\n",
       "      <td>NaN</td>\n",
       "      <td>NaN</td>\n",
       "      <td>NaN</td>\n",
       "      <td>NaN</td>\n",
       "      <td>NaN</td>\n",
       "      <td>NaN</td>\n",
       "    </tr>\n",
       "    <tr>\n",
       "      <th>20551</th>\n",
       "      <td>20</td>\n",
       "      <td>BHK2</td>\n",
       "      <td>NaN</td>\n",
       "      <td>NaN</td>\n",
       "      <td>NaN</td>\n",
       "      <td>NaN</td>\n",
       "      <td>NaN</td>\n",
       "      <td>0</td>\n",
       "      <td>0</td>\n",
       "      <td>0</td>\n",
       "      <td>...</td>\n",
       "      <td>NaN</td>\n",
       "      <td>NaN</td>\n",
       "      <td>NaN</td>\n",
       "      <td>NaN</td>\n",
       "      <td>NaN</td>\n",
       "      <td>NaN</td>\n",
       "      <td>NaN</td>\n",
       "      <td>NaN</td>\n",
       "      <td>NaN</td>\n",
       "      <td>NaN</td>\n",
       "    </tr>\n",
       "    <tr>\n",
       "      <th>20552</th>\n",
       "      <td>21</td>\n",
       "      <td>BHK2</td>\n",
       "      <td>NaN</td>\n",
       "      <td>NaN</td>\n",
       "      <td>NaN</td>\n",
       "      <td>NaN</td>\n",
       "      <td>NaN</td>\n",
       "      <td>1</td>\n",
       "      <td>1</td>\n",
       "      <td>0</td>\n",
       "      <td>...</td>\n",
       "      <td>NaN</td>\n",
       "      <td>NaN</td>\n",
       "      <td>NaN</td>\n",
       "      <td>NaN</td>\n",
       "      <td>NaN</td>\n",
       "      <td>NaN</td>\n",
       "      <td>NaN</td>\n",
       "      <td>NaN</td>\n",
       "      <td>NaN</td>\n",
       "      <td>NaN</td>\n",
       "    </tr>\n",
       "    <tr>\n",
       "      <th>20553</th>\n",
       "      <td>22</td>\n",
       "      <td>BHK2</td>\n",
       "      <td>NaN</td>\n",
       "      <td>NaN</td>\n",
       "      <td>NaN</td>\n",
       "      <td>NaN</td>\n",
       "      <td>NaN</td>\n",
       "      <td>0</td>\n",
       "      <td>1</td>\n",
       "      <td>0</td>\n",
       "      <td>...</td>\n",
       "      <td>NaN</td>\n",
       "      <td>NaN</td>\n",
       "      <td>NaN</td>\n",
       "      <td>NaN</td>\n",
       "      <td>NaN</td>\n",
       "      <td>NaN</td>\n",
       "      <td>NaN</td>\n",
       "      <td>NaN</td>\n",
       "      <td>NaN</td>\n",
       "      <td>NaN</td>\n",
       "    </tr>\n",
       "    <tr>\n",
       "      <th>20554</th>\n",
       "      <td>23</td>\n",
       "      <td>BHK1</td>\n",
       "      <td>NaN</td>\n",
       "      <td>NaN</td>\n",
       "      <td>NaN</td>\n",
       "      <td>NaN</td>\n",
       "      <td>NaN</td>\n",
       "      <td>0</td>\n",
       "      <td>0</td>\n",
       "      <td>0</td>\n",
       "      <td>...</td>\n",
       "      <td>NaN</td>\n",
       "      <td>NaN</td>\n",
       "      <td>NaN</td>\n",
       "      <td>NaN</td>\n",
       "      <td>NaN</td>\n",
       "      <td>NaN</td>\n",
       "      <td>NaN</td>\n",
       "      <td>NaN</td>\n",
       "      <td>NaN</td>\n",
       "      <td>NaN</td>\n",
       "    </tr>\n",
       "  </tbody>\n",
       "</table>\n",
       "<p>5 rows × 25 columns</p>\n",
       "</div>"
      ],
      "text/plain": [
       "       id  type locality activation_date  latitude  longitude lease_type  gym  \\\n",
       "20550  19   NaN      NaN             NaN       NaN        NaN        NaN    1   \n",
       "20551  20  BHK2      NaN             NaN       NaN        NaN        NaN    0   \n",
       "20552  21  BHK2      NaN             NaN       NaN        NaN        NaN    1   \n",
       "20553  22  BHK2      NaN             NaN       NaN        NaN        NaN    0   \n",
       "20554  23  BHK1      NaN             NaN       NaN        NaN        NaN    0   \n",
       "\n",
       "       lift  swimming_pool  ...  bathroom facing cup_board  floor  \\\n",
       "20550     1              1  ...       NaN    NaN       NaN    NaN   \n",
       "20551     0              0  ...       NaN    NaN       NaN    NaN   \n",
       "20552     1              0  ...       NaN    NaN       NaN    NaN   \n",
       "20553     1              0  ...       NaN    NaN       NaN    NaN   \n",
       "20554     0              0  ...       NaN    NaN       NaN    NaN   \n",
       "\n",
       "       total_floor  amenities water_supply  building_type  balconies  rent  \n",
       "20550          NaN        NaN          NaN            NaN        NaN   NaN  \n",
       "20551          NaN        NaN          NaN            NaN        NaN   NaN  \n",
       "20552          NaN        NaN          NaN            NaN        NaN   NaN  \n",
       "20553          NaN        NaN          NaN            NaN        NaN   NaN  \n",
       "20554          NaN        NaN          NaN            NaN        NaN   NaN  \n",
       "\n",
       "[5 rows x 25 columns]"
      ]
     },
     "execution_count": 4,
     "metadata": {},
     "output_type": "execute_result"
    }
   ],
   "source": [
    "df.tail()"
   ]
  },
  {
   "cell_type": "code",
   "execution_count": 5,
   "metadata": {},
   "outputs": [
    {
     "data": {
      "text/plain": [
       "(20555, 25)"
      ]
     },
     "execution_count": 5,
     "metadata": {},
     "output_type": "execute_result"
    }
   ],
   "source": [
    "df.shape"
   ]
  },
  {
   "cell_type": "code",
   "execution_count": 6,
   "metadata": {},
   "outputs": [
    {
     "data": {
      "text/plain": [
       "id                  object\n",
       "type                object\n",
       "locality            object\n",
       "activation_date     object\n",
       "latitude           float64\n",
       "longitude          float64\n",
       "lease_type          object\n",
       "gym                  int64\n",
       "lift                 int64\n",
       "swimming_pool        int64\n",
       "negotiable           int64\n",
       "furnishing          object\n",
       "parking             object\n",
       "property_size        int64\n",
       "property_age       float64\n",
       "bathroom           float64\n",
       "facing              object\n",
       "cup_board          float64\n",
       "floor              float64\n",
       "total_floor        float64\n",
       "amenities           object\n",
       "water_supply        object\n",
       "building_type       object\n",
       "balconies          float64\n",
       "rent               float64\n",
       "dtype: object"
      ]
     },
     "execution_count": 6,
     "metadata": {},
     "output_type": "execute_result"
    }
   ],
   "source": [
    "df.dtypes"
   ]
  },
  {
   "cell_type": "code",
   "execution_count": 7,
   "metadata": {},
   "outputs": [
    {
     "data": {
      "text/plain": [
       "id                   0\n",
       "type                27\n",
       "locality           160\n",
       "activation_date     23\n",
       "latitude            23\n",
       "longitude           23\n",
       "lease_type          23\n",
       "gym                  0\n",
       "lift                 0\n",
       "swimming_pool        0\n",
       "negotiable           0\n",
       "furnishing           0\n",
       "parking              0\n",
       "property_size        0\n",
       "property_age        23\n",
       "bathroom            23\n",
       "facing              23\n",
       "cup_board           23\n",
       "floor               23\n",
       "total_floor         23\n",
       "amenities           23\n",
       "water_supply        23\n",
       "building_type       23\n",
       "balconies           23\n",
       "rent                23\n",
       "dtype: int64"
      ]
     },
     "execution_count": 7,
     "metadata": {},
     "output_type": "execute_result"
    }
   ],
   "source": [
    "df.isnull().sum()"
   ]
  },
  {
   "cell_type": "code",
   "execution_count": 8,
   "metadata": {},
   "outputs": [],
   "source": [
    "# Handling missing values\n",
    "imputer = SimpleImputer(strategy='mean')  # You can choose different strategies based on your analysis\n",
    "df[['latitude', 'longitude']] = imputer.fit_transform(df[['latitude', 'longitude']])\n",
    "df['property_age'].fillna(df['property_age'].median(), inplace=True)  # Fill missing property_age with median\n"
   ]
  },
  {
   "cell_type": "code",
   "execution_count": 9,
   "metadata": {},
   "outputs": [
    {
     "data": {
      "text/html": [
       "<style>#sk-container-id-1 {color: black;}#sk-container-id-1 pre{padding: 0;}#sk-container-id-1 div.sk-toggleable {background-color: white;}#sk-container-id-1 label.sk-toggleable__label {cursor: pointer;display: block;width: 100%;margin-bottom: 0;padding: 0.3em;box-sizing: border-box;text-align: center;}#sk-container-id-1 label.sk-toggleable__label-arrow:before {content: \"▸\";float: left;margin-right: 0.25em;color: #696969;}#sk-container-id-1 label.sk-toggleable__label-arrow:hover:before {color: black;}#sk-container-id-1 div.sk-estimator:hover label.sk-toggleable__label-arrow:before {color: black;}#sk-container-id-1 div.sk-toggleable__content {max-height: 0;max-width: 0;overflow: hidden;text-align: left;background-color: #f0f8ff;}#sk-container-id-1 div.sk-toggleable__content pre {margin: 0.2em;color: black;border-radius: 0.25em;background-color: #f0f8ff;}#sk-container-id-1 input.sk-toggleable__control:checked~div.sk-toggleable__content {max-height: 200px;max-width: 100%;overflow: auto;}#sk-container-id-1 input.sk-toggleable__control:checked~label.sk-toggleable__label-arrow:before {content: \"▾\";}#sk-container-id-1 div.sk-estimator input.sk-toggleable__control:checked~label.sk-toggleable__label {background-color: #d4ebff;}#sk-container-id-1 div.sk-label input.sk-toggleable__control:checked~label.sk-toggleable__label {background-color: #d4ebff;}#sk-container-id-1 input.sk-hidden--visually {border: 0;clip: rect(1px 1px 1px 1px);clip: rect(1px, 1px, 1px, 1px);height: 1px;margin: -1px;overflow: hidden;padding: 0;position: absolute;width: 1px;}#sk-container-id-1 div.sk-estimator {font-family: monospace;background-color: #f0f8ff;border: 1px dotted black;border-radius: 0.25em;box-sizing: border-box;margin-bottom: 0.5em;}#sk-container-id-1 div.sk-estimator:hover {background-color: #d4ebff;}#sk-container-id-1 div.sk-parallel-item::after {content: \"\";width: 100%;border-bottom: 1px solid gray;flex-grow: 1;}#sk-container-id-1 div.sk-label:hover label.sk-toggleable__label {background-color: #d4ebff;}#sk-container-id-1 div.sk-serial::before {content: \"\";position: absolute;border-left: 1px solid gray;box-sizing: border-box;top: 0;bottom: 0;left: 50%;z-index: 0;}#sk-container-id-1 div.sk-serial {display: flex;flex-direction: column;align-items: center;background-color: white;padding-right: 0.2em;padding-left: 0.2em;position: relative;}#sk-container-id-1 div.sk-item {position: relative;z-index: 1;}#sk-container-id-1 div.sk-parallel {display: flex;align-items: stretch;justify-content: center;background-color: white;position: relative;}#sk-container-id-1 div.sk-item::before, #sk-container-id-1 div.sk-parallel-item::before {content: \"\";position: absolute;border-left: 1px solid gray;box-sizing: border-box;top: 0;bottom: 0;left: 50%;z-index: -1;}#sk-container-id-1 div.sk-parallel-item {display: flex;flex-direction: column;z-index: 1;position: relative;background-color: white;}#sk-container-id-1 div.sk-parallel-item:first-child::after {align-self: flex-end;width: 50%;}#sk-container-id-1 div.sk-parallel-item:last-child::after {align-self: flex-start;width: 50%;}#sk-container-id-1 div.sk-parallel-item:only-child::after {width: 0;}#sk-container-id-1 div.sk-dashed-wrapped {border: 1px dashed gray;margin: 0 0.4em 0.5em 0.4em;box-sizing: border-box;padding-bottom: 0.4em;background-color: white;}#sk-container-id-1 div.sk-label label {font-family: monospace;font-weight: bold;display: inline-block;line-height: 1.2em;}#sk-container-id-1 div.sk-label-container {text-align: center;}#sk-container-id-1 div.sk-container {/* jupyter's `normalize.less` sets `[hidden] { display: none; }` but bootstrap.min.css set `[hidden] { display: none !important; }` so we also need the `!important` here to be able to override the default hidden behavior on the sphinx rendered scikit-learn.org. See: https://github.com/scikit-learn/scikit-learn/issues/21755 */display: inline-block !important;position: relative;}#sk-container-id-1 div.sk-text-repr-fallback {display: none;}</style><div id=\"sk-container-id-1\" class=\"sk-top-container\"><div class=\"sk-text-repr-fallback\"><pre>SimpleImputer()</pre><b>In a Jupyter environment, please rerun this cell to show the HTML representation or trust the notebook. <br />On GitHub, the HTML representation is unable to render, please try loading this page with nbviewer.org.</b></div><div class=\"sk-container\" hidden><div class=\"sk-item\"><div class=\"sk-estimator sk-toggleable\"><input class=\"sk-toggleable__control sk-hidden--visually\" id=\"sk-estimator-id-1\" type=\"checkbox\" checked><label for=\"sk-estimator-id-1\" class=\"sk-toggleable__label sk-toggleable__label-arrow\">SimpleImputer</label><div class=\"sk-toggleable__content\"><pre>SimpleImputer()</pre></div></div></div></div></div>"
      ],
      "text/plain": [
       "SimpleImputer()"
      ]
     },
     "execution_count": 9,
     "metadata": {},
     "output_type": "execute_result"
    }
   ],
   "source": [
    "imputer"
   ]
  },
  {
   "cell_type": "code",
   "execution_count": 10,
   "metadata": {},
   "outputs": [],
   "source": [
    "# For numerical features, replace missing values with the mean\n",
    "numerical_features = df.select_dtypes(include=['int64', 'float64']).columns\n",
    "df[numerical_features] = df[numerical_features].fillna(df[numerical_features].mean())"
   ]
  },
  {
   "cell_type": "code",
   "execution_count": 11,
   "metadata": {},
   "outputs": [],
   "source": [
    "# Handling outliers using Isolation Forest\n",
    "iso_forest = IsolationForest(contamination=0.05)  # Adjust contamination based on your analysis\n",
    "df['outlier'] = iso_forest.fit_predict(df[numerical_features])\n",
    "df = df[df['outlier'] == 1]  # Keep only non-outliers\n",
    "df.drop('outlier', axis=1, inplace=True)"
   ]
  },
  {
   "cell_type": "code",
   "execution_count": 12,
   "metadata": {},
   "outputs": [
    {
     "data": {
      "text/plain": [
       "Index(['latitude', 'longitude', 'gym', 'lift', 'swimming_pool', 'negotiable',\n",
       "       'property_size', 'property_age', 'bathroom', 'cup_board', 'floor',\n",
       "       'total_floor', 'balconies', 'rent'],\n",
       "      dtype='object')"
      ]
     },
     "execution_count": 12,
     "metadata": {},
     "output_type": "execute_result"
    }
   ],
   "source": [
    "numerical_features"
   ]
  },
  {
   "cell_type": "code",
   "execution_count": 13,
   "metadata": {},
   "outputs": [],
   "source": [
    "# Encoding categorical variables\n",
    "label_encoder = LabelEncoder()\n",
    "categorical_features = df.select_dtypes(include=['object']).columns\n",
    "df[categorical_features] = df[categorical_features].apply(lambda col: label_encoder.fit_transform(col.astype(str)))"
   ]
  },
  {
   "cell_type": "code",
   "execution_count": 14,
   "metadata": {},
   "outputs": [
    {
     "data": {
      "text/plain": [
       "Index(['id', 'type', 'locality', 'activation_date', 'lease_type', 'furnishing',\n",
       "       'parking', 'facing', 'amenities', 'water_supply', 'building_type'],\n",
       "      dtype='object')"
      ]
     },
     "execution_count": 14,
     "metadata": {},
     "output_type": "execute_result"
    }
   ],
   "source": [
    "categorical_features"
   ]
  },
  {
   "cell_type": "code",
   "execution_count": 15,
   "metadata": {},
   "outputs": [],
   "source": [
    "# Scaling numerical features\n",
    "scaler = StandardScaler()\n",
    "df[numerical_features] = scaler.fit_transform(df[numerical_features])\n"
   ]
  },
  {
   "cell_type": "code",
   "execution_count": 16,
   "metadata": {},
   "outputs": [
    {
     "data": {
      "text/html": [
       "<style>#sk-container-id-2 {color: black;}#sk-container-id-2 pre{padding: 0;}#sk-container-id-2 div.sk-toggleable {background-color: white;}#sk-container-id-2 label.sk-toggleable__label {cursor: pointer;display: block;width: 100%;margin-bottom: 0;padding: 0.3em;box-sizing: border-box;text-align: center;}#sk-container-id-2 label.sk-toggleable__label-arrow:before {content: \"▸\";float: left;margin-right: 0.25em;color: #696969;}#sk-container-id-2 label.sk-toggleable__label-arrow:hover:before {color: black;}#sk-container-id-2 div.sk-estimator:hover label.sk-toggleable__label-arrow:before {color: black;}#sk-container-id-2 div.sk-toggleable__content {max-height: 0;max-width: 0;overflow: hidden;text-align: left;background-color: #f0f8ff;}#sk-container-id-2 div.sk-toggleable__content pre {margin: 0.2em;color: black;border-radius: 0.25em;background-color: #f0f8ff;}#sk-container-id-2 input.sk-toggleable__control:checked~div.sk-toggleable__content {max-height: 200px;max-width: 100%;overflow: auto;}#sk-container-id-2 input.sk-toggleable__control:checked~label.sk-toggleable__label-arrow:before {content: \"▾\";}#sk-container-id-2 div.sk-estimator input.sk-toggleable__control:checked~label.sk-toggleable__label {background-color: #d4ebff;}#sk-container-id-2 div.sk-label input.sk-toggleable__control:checked~label.sk-toggleable__label {background-color: #d4ebff;}#sk-container-id-2 input.sk-hidden--visually {border: 0;clip: rect(1px 1px 1px 1px);clip: rect(1px, 1px, 1px, 1px);height: 1px;margin: -1px;overflow: hidden;padding: 0;position: absolute;width: 1px;}#sk-container-id-2 div.sk-estimator {font-family: monospace;background-color: #f0f8ff;border: 1px dotted black;border-radius: 0.25em;box-sizing: border-box;margin-bottom: 0.5em;}#sk-container-id-2 div.sk-estimator:hover {background-color: #d4ebff;}#sk-container-id-2 div.sk-parallel-item::after {content: \"\";width: 100%;border-bottom: 1px solid gray;flex-grow: 1;}#sk-container-id-2 div.sk-label:hover label.sk-toggleable__label {background-color: #d4ebff;}#sk-container-id-2 div.sk-serial::before {content: \"\";position: absolute;border-left: 1px solid gray;box-sizing: border-box;top: 0;bottom: 0;left: 50%;z-index: 0;}#sk-container-id-2 div.sk-serial {display: flex;flex-direction: column;align-items: center;background-color: white;padding-right: 0.2em;padding-left: 0.2em;position: relative;}#sk-container-id-2 div.sk-item {position: relative;z-index: 1;}#sk-container-id-2 div.sk-parallel {display: flex;align-items: stretch;justify-content: center;background-color: white;position: relative;}#sk-container-id-2 div.sk-item::before, #sk-container-id-2 div.sk-parallel-item::before {content: \"\";position: absolute;border-left: 1px solid gray;box-sizing: border-box;top: 0;bottom: 0;left: 50%;z-index: -1;}#sk-container-id-2 div.sk-parallel-item {display: flex;flex-direction: column;z-index: 1;position: relative;background-color: white;}#sk-container-id-2 div.sk-parallel-item:first-child::after {align-self: flex-end;width: 50%;}#sk-container-id-2 div.sk-parallel-item:last-child::after {align-self: flex-start;width: 50%;}#sk-container-id-2 div.sk-parallel-item:only-child::after {width: 0;}#sk-container-id-2 div.sk-dashed-wrapped {border: 1px dashed gray;margin: 0 0.4em 0.5em 0.4em;box-sizing: border-box;padding-bottom: 0.4em;background-color: white;}#sk-container-id-2 div.sk-label label {font-family: monospace;font-weight: bold;display: inline-block;line-height: 1.2em;}#sk-container-id-2 div.sk-label-container {text-align: center;}#sk-container-id-2 div.sk-container {/* jupyter's `normalize.less` sets `[hidden] { display: none; }` but bootstrap.min.css set `[hidden] { display: none !important; }` so we also need the `!important` here to be able to override the default hidden behavior on the sphinx rendered scikit-learn.org. See: https://github.com/scikit-learn/scikit-learn/issues/21755 */display: inline-block !important;position: relative;}#sk-container-id-2 div.sk-text-repr-fallback {display: none;}</style><div id=\"sk-container-id-2\" class=\"sk-top-container\"><div class=\"sk-text-repr-fallback\"><pre>StandardScaler()</pre><b>In a Jupyter environment, please rerun this cell to show the HTML representation or trust the notebook. <br />On GitHub, the HTML representation is unable to render, please try loading this page with nbviewer.org.</b></div><div class=\"sk-container\" hidden><div class=\"sk-item\"><div class=\"sk-estimator sk-toggleable\"><input class=\"sk-toggleable__control sk-hidden--visually\" id=\"sk-estimator-id-2\" type=\"checkbox\" checked><label for=\"sk-estimator-id-2\" class=\"sk-toggleable__label sk-toggleable__label-arrow\">StandardScaler</label><div class=\"sk-toggleable__content\"><pre>StandardScaler()</pre></div></div></div></div></div>"
      ],
      "text/plain": [
       "StandardScaler()"
      ]
     },
     "execution_count": 16,
     "metadata": {},
     "output_type": "execute_result"
    }
   ],
   "source": [
    "scaler\n"
   ]
  },
  {
   "cell_type": "code",
   "execution_count": 17,
   "metadata": {},
   "outputs": [
    {
     "data": {
      "text/plain": [
       "id                 0\n",
       "type               0\n",
       "locality           0\n",
       "activation_date    0\n",
       "latitude           0\n",
       "longitude          0\n",
       "lease_type         0\n",
       "gym                0\n",
       "lift               0\n",
       "swimming_pool      0\n",
       "negotiable         0\n",
       "furnishing         0\n",
       "parking            0\n",
       "property_size      0\n",
       "property_age       0\n",
       "bathroom           0\n",
       "facing             0\n",
       "cup_board          0\n",
       "floor              0\n",
       "total_floor        0\n",
       "amenities          0\n",
       "water_supply       0\n",
       "building_type      0\n",
       "balconies          0\n",
       "rent               0\n",
       "dtype: int64"
      ]
     },
     "execution_count": 17,
     "metadata": {},
     "output_type": "execute_result"
    }
   ],
   "source": [
    "df.isnull().sum()"
   ]
  },
  {
   "cell_type": "markdown",
   "metadata": {},
   "source": [
    "#### Feature Selection"
   ]
  },
  {
   "cell_type": "code",
   "execution_count": 18,
   "metadata": {},
   "outputs": [],
   "source": [
    "x =  df.drop(\"rent\", axis=1)  # Features\n",
    "y = df[\"rent\"]   # target``"
   ]
  },
  {
   "cell_type": "code",
   "execution_count": 19,
   "metadata": {},
   "outputs": [
    {
     "data": {
      "text/html": [
       "<div>\n",
       "<style scoped>\n",
       "    .dataframe tbody tr th:only-of-type {\n",
       "        vertical-align: middle;\n",
       "    }\n",
       "\n",
       "    .dataframe tbody tr th {\n",
       "        vertical-align: top;\n",
       "    }\n",
       "\n",
       "    .dataframe thead th {\n",
       "        text-align: right;\n",
       "    }\n",
       "</style>\n",
       "<table border=\"1\" class=\"dataframe\">\n",
       "  <thead>\n",
       "    <tr style=\"text-align: right;\">\n",
       "      <th></th>\n",
       "      <th>id</th>\n",
       "      <th>type</th>\n",
       "      <th>locality</th>\n",
       "      <th>activation_date</th>\n",
       "      <th>latitude</th>\n",
       "      <th>longitude</th>\n",
       "      <th>lease_type</th>\n",
       "      <th>gym</th>\n",
       "      <th>lift</th>\n",
       "      <th>swimming_pool</th>\n",
       "      <th>...</th>\n",
       "      <th>property_age</th>\n",
       "      <th>bathroom</th>\n",
       "      <th>facing</th>\n",
       "      <th>cup_board</th>\n",
       "      <th>floor</th>\n",
       "      <th>total_floor</th>\n",
       "      <th>amenities</th>\n",
       "      <th>water_supply</th>\n",
       "      <th>building_type</th>\n",
       "      <th>balconies</th>\n",
       "    </tr>\n",
       "  </thead>\n",
       "  <tbody>\n",
       "    <tr>\n",
       "      <th>1</th>\n",
       "      <td>8529</td>\n",
       "      <td>2</td>\n",
       "      <td>371</td>\n",
       "      <td>6760</td>\n",
       "      <td>-0.550632</td>\n",
       "      <td>0.332323</td>\n",
       "      <td>0</td>\n",
       "      <td>-0.495803</td>\n",
       "      <td>1.395359</td>\n",
       "      <td>-0.405892</td>\n",
       "      <td>...</td>\n",
       "      <td>-0.289114</td>\n",
       "      <td>0.290256</td>\n",
       "      <td>2</td>\n",
       "      <td>-0.007548</td>\n",
       "      <td>0.858514</td>\n",
       "      <td>0.240632</td>\n",
       "      <td>1419</td>\n",
       "      <td>1</td>\n",
       "      <td>0</td>\n",
       "      <td>0.952323</td>\n",
       "    </tr>\n",
       "    <tr>\n",
       "      <th>2</th>\n",
       "      <td>17647</td>\n",
       "      <td>3</td>\n",
       "      <td>1638</td>\n",
       "      <td>12397</td>\n",
       "      <td>1.263386</td>\n",
       "      <td>23.494377</td>\n",
       "      <td>3</td>\n",
       "      <td>-0.495803</td>\n",
       "      <td>1.395359</td>\n",
       "      <td>-0.405892</td>\n",
       "      <td>...</td>\n",
       "      <td>0.023242</td>\n",
       "      <td>1.801979</td>\n",
       "      <td>0</td>\n",
       "      <td>-0.004639</td>\n",
       "      <td>-0.401010</td>\n",
       "      <td>0.657653</td>\n",
       "      <td>1514</td>\n",
       "      <td>2</td>\n",
       "      <td>0</td>\n",
       "      <td>2.002258</td>\n",
       "    </tr>\n",
       "    <tr>\n",
       "      <th>3</th>\n",
       "      <td>19180</td>\n",
       "      <td>1</td>\n",
       "      <td>223</td>\n",
       "      <td>4566</td>\n",
       "      <td>0.348794</td>\n",
       "      <td>-0.925587</td>\n",
       "      <td>3</td>\n",
       "      <td>-0.495803</td>\n",
       "      <td>-0.716661</td>\n",
       "      <td>-0.405892</td>\n",
       "      <td>...</td>\n",
       "      <td>-0.445293</td>\n",
       "      <td>-1.221466</td>\n",
       "      <td>0</td>\n",
       "      <td>-0.010458</td>\n",
       "      <td>-0.401010</td>\n",
       "      <td>-0.593411</td>\n",
       "      <td>221</td>\n",
       "      <td>1</td>\n",
       "      <td>3</td>\n",
       "      <td>-1.147549</td>\n",
       "    </tr>\n",
       "    <tr>\n",
       "      <th>4</th>\n",
       "      <td>17055</td>\n",
       "      <td>3</td>\n",
       "      <td>1029</td>\n",
       "      <td>18397</td>\n",
       "      <td>0.618026</td>\n",
       "      <td>0.128101</td>\n",
       "      <td>3</td>\n",
       "      <td>-0.495803</td>\n",
       "      <td>-0.716661</td>\n",
       "      <td>-0.405892</td>\n",
       "      <td>...</td>\n",
       "      <td>1.428848</td>\n",
       "      <td>1.801979</td>\n",
       "      <td>0</td>\n",
       "      <td>-0.001729</td>\n",
       "      <td>-1.030772</td>\n",
       "      <td>-1.427454</td>\n",
       "      <td>449</td>\n",
       "      <td>1</td>\n",
       "      <td>3</td>\n",
       "      <td>-0.097613</td>\n",
       "    </tr>\n",
       "    <tr>\n",
       "      <th>5</th>\n",
       "      <td>9124</td>\n",
       "      <td>1</td>\n",
       "      <td>1510</td>\n",
       "      <td>14783</td>\n",
       "      <td>1.376543</td>\n",
       "      <td>0.744045</td>\n",
       "      <td>3</td>\n",
       "      <td>2.016928</td>\n",
       "      <td>1.395359</td>\n",
       "      <td>2.463712</td>\n",
       "      <td>...</td>\n",
       "      <td>-0.913828</td>\n",
       "      <td>0.290256</td>\n",
       "      <td>0</td>\n",
       "      <td>-0.010458</td>\n",
       "      <td>0.858514</td>\n",
       "      <td>0.657653</td>\n",
       "      <td>3043</td>\n",
       "      <td>2</td>\n",
       "      <td>0</td>\n",
       "      <td>0.952323</td>\n",
       "    </tr>\n",
       "    <tr>\n",
       "      <th>...</th>\n",
       "      <td>...</td>\n",
       "      <td>...</td>\n",
       "      <td>...</td>\n",
       "      <td>...</td>\n",
       "      <td>...</td>\n",
       "      <td>...</td>\n",
       "      <td>...</td>\n",
       "      <td>...</td>\n",
       "      <td>...</td>\n",
       "      <td>...</td>\n",
       "      <td>...</td>\n",
       "      <td>...</td>\n",
       "      <td>...</td>\n",
       "      <td>...</td>\n",
       "      <td>...</td>\n",
       "      <td>...</td>\n",
       "      <td>...</td>\n",
       "      <td>...</td>\n",
       "      <td>...</td>\n",
       "      <td>...</td>\n",
       "      <td>...</td>\n",
       "    </tr>\n",
       "    <tr>\n",
       "      <th>20550</th>\n",
       "      <td>10</td>\n",
       "      <td>9</td>\n",
       "      <td>1841</td>\n",
       "      <td>18633</td>\n",
       "      <td>0.000290</td>\n",
       "      <td>0.019422</td>\n",
       "      <td>4</td>\n",
       "      <td>2.016928</td>\n",
       "      <td>1.395359</td>\n",
       "      <td>2.463712</td>\n",
       "      <td>...</td>\n",
       "      <td>-0.132936</td>\n",
       "      <td>0.076294</td>\n",
       "      <td>8</td>\n",
       "      <td>-0.000129</td>\n",
       "      <td>0.149433</td>\n",
       "      <td>0.157784</td>\n",
       "      <td>0</td>\n",
       "      <td>3</td>\n",
       "      <td>4</td>\n",
       "      <td>0.059376</td>\n",
       "    </tr>\n",
       "    <tr>\n",
       "      <th>20551</th>\n",
       "      <td>12</td>\n",
       "      <td>2</td>\n",
       "      <td>1841</td>\n",
       "      <td>18633</td>\n",
       "      <td>0.000290</td>\n",
       "      <td>0.019422</td>\n",
       "      <td>4</td>\n",
       "      <td>-0.495803</td>\n",
       "      <td>-0.716661</td>\n",
       "      <td>-0.405892</td>\n",
       "      <td>...</td>\n",
       "      <td>-0.132936</td>\n",
       "      <td>0.076294</td>\n",
       "      <td>8</td>\n",
       "      <td>-0.000129</td>\n",
       "      <td>0.149433</td>\n",
       "      <td>0.157784</td>\n",
       "      <td>0</td>\n",
       "      <td>3</td>\n",
       "      <td>4</td>\n",
       "      <td>0.059376</td>\n",
       "    </tr>\n",
       "    <tr>\n",
       "      <th>20552</th>\n",
       "      <td>13</td>\n",
       "      <td>2</td>\n",
       "      <td>1841</td>\n",
       "      <td>18633</td>\n",
       "      <td>0.000290</td>\n",
       "      <td>0.019422</td>\n",
       "      <td>4</td>\n",
       "      <td>2.016928</td>\n",
       "      <td>1.395359</td>\n",
       "      <td>-0.405892</td>\n",
       "      <td>...</td>\n",
       "      <td>-0.132936</td>\n",
       "      <td>0.076294</td>\n",
       "      <td>8</td>\n",
       "      <td>-0.000129</td>\n",
       "      <td>0.149433</td>\n",
       "      <td>0.157784</td>\n",
       "      <td>0</td>\n",
       "      <td>3</td>\n",
       "      <td>4</td>\n",
       "      <td>0.059376</td>\n",
       "    </tr>\n",
       "    <tr>\n",
       "      <th>20553</th>\n",
       "      <td>14</td>\n",
       "      <td>2</td>\n",
       "      <td>1841</td>\n",
       "      <td>18633</td>\n",
       "      <td>0.000290</td>\n",
       "      <td>0.019422</td>\n",
       "      <td>4</td>\n",
       "      <td>-0.495803</td>\n",
       "      <td>1.395359</td>\n",
       "      <td>-0.405892</td>\n",
       "      <td>...</td>\n",
       "      <td>-0.132936</td>\n",
       "      <td>0.076294</td>\n",
       "      <td>8</td>\n",
       "      <td>-0.000129</td>\n",
       "      <td>0.149433</td>\n",
       "      <td>0.157784</td>\n",
       "      <td>0</td>\n",
       "      <td>3</td>\n",
       "      <td>4</td>\n",
       "      <td>0.059376</td>\n",
       "    </tr>\n",
       "    <tr>\n",
       "      <th>20554</th>\n",
       "      <td>15</td>\n",
       "      <td>1</td>\n",
       "      <td>1841</td>\n",
       "      <td>18633</td>\n",
       "      <td>0.000290</td>\n",
       "      <td>0.019422</td>\n",
       "      <td>4</td>\n",
       "      <td>-0.495803</td>\n",
       "      <td>-0.716661</td>\n",
       "      <td>-0.405892</td>\n",
       "      <td>...</td>\n",
       "      <td>-0.132936</td>\n",
       "      <td>0.076294</td>\n",
       "      <td>8</td>\n",
       "      <td>-0.000129</td>\n",
       "      <td>0.149433</td>\n",
       "      <td>0.157784</td>\n",
       "      <td>0</td>\n",
       "      <td>3</td>\n",
       "      <td>4</td>\n",
       "      <td>0.059376</td>\n",
       "    </tr>\n",
       "  </tbody>\n",
       "</table>\n",
       "<p>19527 rows × 24 columns</p>\n",
       "</div>"
      ],
      "text/plain": [
       "          id  type  locality  activation_date  latitude  longitude  \\\n",
       "1       8529     2       371             6760 -0.550632   0.332323   \n",
       "2      17647     3      1638            12397  1.263386  23.494377   \n",
       "3      19180     1       223             4566  0.348794  -0.925587   \n",
       "4      17055     3      1029            18397  0.618026   0.128101   \n",
       "5       9124     1      1510            14783  1.376543   0.744045   \n",
       "...      ...   ...       ...              ...       ...        ...   \n",
       "20550     10     9      1841            18633  0.000290   0.019422   \n",
       "20551     12     2      1841            18633  0.000290   0.019422   \n",
       "20552     13     2      1841            18633  0.000290   0.019422   \n",
       "20553     14     2      1841            18633  0.000290   0.019422   \n",
       "20554     15     1      1841            18633  0.000290   0.019422   \n",
       "\n",
       "       lease_type       gym      lift  swimming_pool  ...  property_age  \\\n",
       "1               0 -0.495803  1.395359      -0.405892  ...     -0.289114   \n",
       "2               3 -0.495803  1.395359      -0.405892  ...      0.023242   \n",
       "3               3 -0.495803 -0.716661      -0.405892  ...     -0.445293   \n",
       "4               3 -0.495803 -0.716661      -0.405892  ...      1.428848   \n",
       "5               3  2.016928  1.395359       2.463712  ...     -0.913828   \n",
       "...           ...       ...       ...            ...  ...           ...   \n",
       "20550           4  2.016928  1.395359       2.463712  ...     -0.132936   \n",
       "20551           4 -0.495803 -0.716661      -0.405892  ...     -0.132936   \n",
       "20552           4  2.016928  1.395359      -0.405892  ...     -0.132936   \n",
       "20553           4 -0.495803  1.395359      -0.405892  ...     -0.132936   \n",
       "20554           4 -0.495803 -0.716661      -0.405892  ...     -0.132936   \n",
       "\n",
       "       bathroom  facing  cup_board     floor  total_floor  amenities  \\\n",
       "1      0.290256       2  -0.007548  0.858514     0.240632       1419   \n",
       "2      1.801979       0  -0.004639 -0.401010     0.657653       1514   \n",
       "3     -1.221466       0  -0.010458 -0.401010    -0.593411        221   \n",
       "4      1.801979       0  -0.001729 -1.030772    -1.427454        449   \n",
       "5      0.290256       0  -0.010458  0.858514     0.657653       3043   \n",
       "...         ...     ...        ...       ...          ...        ...   \n",
       "20550  0.076294       8  -0.000129  0.149433     0.157784          0   \n",
       "20551  0.076294       8  -0.000129  0.149433     0.157784          0   \n",
       "20552  0.076294       8  -0.000129  0.149433     0.157784          0   \n",
       "20553  0.076294       8  -0.000129  0.149433     0.157784          0   \n",
       "20554  0.076294       8  -0.000129  0.149433     0.157784          0   \n",
       "\n",
       "       water_supply  building_type  balconies  \n",
       "1                 1              0   0.952323  \n",
       "2                 2              0   2.002258  \n",
       "3                 1              3  -1.147549  \n",
       "4                 1              3  -0.097613  \n",
       "5                 2              0   0.952323  \n",
       "...             ...            ...        ...  \n",
       "20550             3              4   0.059376  \n",
       "20551             3              4   0.059376  \n",
       "20552             3              4   0.059376  \n",
       "20553             3              4   0.059376  \n",
       "20554             3              4   0.059376  \n",
       "\n",
       "[19527 rows x 24 columns]"
      ]
     },
     "execution_count": 19,
     "metadata": {},
     "output_type": "execute_result"
    }
   ],
   "source": [
    "x"
   ]
  },
  {
   "cell_type": "code",
   "execution_count": 20,
   "metadata": {},
   "outputs": [
    {
     "data": {
      "text/plain": [
       "1        0.490688\n",
       "2        1.280790\n",
       "3       -1.352883\n",
       "4        3.519413\n",
       "5       -0.036046\n",
       "           ...   \n",
       "20550    0.103108\n",
       "20551    0.103108\n",
       "20552    0.103108\n",
       "20553    0.103108\n",
       "20554    0.103108\n",
       "Name: rent, Length: 19527, dtype: float64"
      ]
     },
     "execution_count": 20,
     "metadata": {},
     "output_type": "execute_result"
    }
   ],
   "source": [
    "y"
   ]
  },
  {
   "cell_type": "markdown",
   "metadata": {},
   "source": [
    "##### Use SelectKBest with f_regression to selct the top k features "
   ]
  },
  {
   "cell_type": "code",
   "execution_count": 21,
   "metadata": {},
   "outputs": [],
   "source": [
    "k_best_features = 10 # Adjust as needed\n",
    "selector = SelectKBest(f_regression, k=k_best_features)\n",
    "x_selected = selector.fit_transform(x , y)"
   ]
  },
  {
   "cell_type": "code",
   "execution_count": 22,
   "metadata": {},
   "outputs": [
    {
     "data": {
      "text/plain": [
       "(10,\n",
       " SelectKBest(score_func=<function f_regression at 0x0000020FA6F5B600>),\n",
       " array([[-4.95803494e-01,  1.39535904e+00, -4.05891595e-01, ...,\n",
       "          1.41900000e+03,  0.00000000e+00,  9.52322502e-01],\n",
       "        [-4.95803494e-01,  1.39535904e+00, -4.05891595e-01, ...,\n",
       "          1.51400000e+03,  0.00000000e+00,  2.00225828e+00],\n",
       "        [-4.95803494e-01, -7.16661424e-01, -4.05891595e-01, ...,\n",
       "          2.21000000e+02,  3.00000000e+00, -1.14754905e+00],\n",
       "        ...,\n",
       "        [ 2.01692810e+00,  1.39535904e+00, -4.05891595e-01, ...,\n",
       "          0.00000000e+00,  4.00000000e+00,  5.93759552e-02],\n",
       "        [-4.95803494e-01,  1.39535904e+00, -4.05891595e-01, ...,\n",
       "          0.00000000e+00,  4.00000000e+00,  5.93759552e-02],\n",
       "        [-4.95803494e-01, -7.16661424e-01, -4.05891595e-01, ...,\n",
       "          0.00000000e+00,  4.00000000e+00,  5.93759552e-02]]))"
      ]
     },
     "execution_count": 22,
     "metadata": {},
     "output_type": "execute_result"
    }
   ],
   "source": [
    "k_best_features,selector, x_selected"
   ]
  },
  {
   "cell_type": "markdown",
   "metadata": {},
   "source": [
    "##### Features Engineering"
   ]
  },
  {
   "cell_type": "code",
   "execution_count": 23,
   "metadata": {},
   "outputs": [],
   "source": [
    "important_facilies = [\"gym\", \"park\"]"
   ]
  },
  {
   "cell_type": "code",
   "execution_count": 24,
   "metadata": {},
   "outputs": [
    {
     "data": {
      "text/plain": [
       "['gym', 'park']"
      ]
     },
     "execution_count": 24,
     "metadata": {},
     "output_type": "execute_result"
    }
   ],
   "source": [
    "important_facilies"
   ]
  },
  {
   "cell_type": "markdown",
   "metadata": {},
   "source": [
    "#### Assuming latitude and longitude are in radians"
   ]
  },
  {
   "cell_type": "code",
   "execution_count": 25,
   "metadata": {},
   "outputs": [],
   "source": [
    "scaler = StandardScaler()\n",
    "x_selected  = scaler.fit_transform(x[[\"latitude\", \"longitude\"]])\n"
   ]
  },
  {
   "cell_type": "code",
   "execution_count": 26,
   "metadata": {},
   "outputs": [
    {
     "data": {
      "text/plain": [
       "(StandardScaler(),\n",
       " array([[-5.50632024e-01,  3.32322605e-01],\n",
       "        [ 1.26338649e+00,  2.34943770e+01],\n",
       "        [ 3.48793804e-01, -9.25587471e-01],\n",
       "        ...,\n",
       "        [ 2.89656146e-04,  1.94221432e-02],\n",
       "        [ 2.89656146e-04,  1.94221432e-02],\n",
       "        [ 2.89656146e-04,  1.94221432e-02]]))"
      ]
     },
     "execution_count": 26,
     "metadata": {},
     "output_type": "execute_result"
    }
   ],
   "source": [
    "scaler, x_selected"
   ]
  },
  {
   "cell_type": "code",
   "execution_count": 27,
   "metadata": {},
   "outputs": [],
   "source": [
    "from sklearn.model_selection import train_test_split\n",
    "from sklearn.linear_model import LinearRegression\n",
    "from sklearn. ensemble import RandomForestRegressor, GradientBoostingRegressor\n",
    "from sklearn.neural_network import MLPRegressor\n",
    "from sklearn.metrics import mean_absolute_error, r2_score"
   ]
  },
  {
   "cell_type": "markdown",
   "metadata": {},
   "source": [
    "#### Split dataset into traing and testing"
   ]
  },
  {
   "cell_type": "code",
   "execution_count": 28,
   "metadata": {},
   "outputs": [],
   "source": [
    "# Split your data into training and testing sets\n",
    "x_train, x_test, y_train, y_test = train_test_split(df.drop(\"rent\", axis=1), df[\"rent\"], test_size=0.2, random_state=42)\n"
   ]
  },
  {
   "cell_type": "code",
   "execution_count": 29,
   "metadata": {},
   "outputs": [
    {
     "data": {
      "text/plain": [
       "(          id  type  locality  activation_date  latitude  longitude  \\\n",
       " 1691    1697     3      1680            14363 -1.236513  -0.864263   \n",
       " 20063   4810     2       590             5205  0.115020  -0.072422   \n",
       " 7492   12539     3       559             8917  1.051559   0.426566   \n",
       " 14249   7549     2      1029             5798  0.600574   0.104588   \n",
       " 3222   14255     2      1828            12378  0.304253   0.454781   \n",
       " ...      ...   ...       ...              ...       ...        ...   \n",
       " 11867   5487     2      1393            16622 -0.638237  -1.114180   \n",
       " 12584    988     2       546             9681 -1.377726   0.544943   \n",
       " 5677    2629     1      1311             9040  1.655457   0.062217   \n",
       " 906     6081     2       260            14008 -1.364923  -0.278215   \n",
       " 16624   7548     3      1431             5610 -1.200198  -0.805584   \n",
       " \n",
       "        lease_type       gym      lift  swimming_pool  ...  property_age  \\\n",
       " 1691            0  2.016928  1.395359       2.463712  ...     -0.913828   \n",
       " 20063           0 -0.495803 -0.716661      -0.405892  ...      0.647956   \n",
       " 7492            3  2.016928  1.395359      -0.405892  ...     -0.601471   \n",
       " 14249           3 -0.495803 -0.716661      -0.405892  ...      0.647956   \n",
       " 3222            1 -0.495803 -0.716661      -0.405892  ...      1.428848   \n",
       " ...           ...       ...       ...            ...  ...           ...   \n",
       " 11867           3 -0.495803 -0.716661      -0.405892  ...      0.647956   \n",
       " 12584           3 -0.495803 -0.716661      -0.405892  ...     -0.757650   \n",
       " 5677            0 -0.495803 -0.716661      -0.405892  ...     -0.757650   \n",
       " 906             0 -0.495803  1.395359      -0.405892  ...      0.491778   \n",
       " 16624           3 -0.495803  1.395359      -0.405892  ...      0.179421   \n",
       " \n",
       "        bathroom  facing  cup_board     floor  total_floor  amenities  \\\n",
       " 1691   1.801979       1  -0.004639  0.858514     0.657653       3973   \n",
       " 20063  0.290256       7  -0.007548 -0.401010    -1.010432        232   \n",
       " 7492   1.801979       0  -0.004639 -0.401010     0.240632       3632   \n",
       " 14249  0.290256       0  -0.007548 -0.401010     0.240632        759   \n",
       " 3222   0.290256       7  -0.007548 -1.030772     0.240632        143   \n",
       " ...         ...     ...        ...       ...          ...        ...   \n",
       " 11867 -1.221466       7  -0.001729 -1.030772    -0.593411        623   \n",
       " 12584  0.290256       0  -0.007548  0.858514     0.240632       2796   \n",
       " 5677  -1.221466       1  -0.013368  0.228752    -0.593411        922   \n",
       " 906    0.290256       7  -0.007548  0.858514    -0.176390       1399   \n",
       " 16624  0.290256       0  -0.004639  0.228752     0.240632       2536   \n",
       " \n",
       "        water_supply  building_type  balconies  \n",
       " 1691              2              0  -1.147549  \n",
       " 20063             2              2  -0.097613  \n",
       " 7492              2              0  -0.097613  \n",
       " 14249             2              0  -0.097613  \n",
       " 3222              2              0   0.952323  \n",
       " ...             ...            ...        ...  \n",
       " 11867             1              2  -1.147549  \n",
       " 12584             0              0   0.952323  \n",
       " 5677              2              2  -1.147549  \n",
       " 906               2              0   2.002258  \n",
       " 16624             2              0  -0.097613  \n",
       " \n",
       " [15621 rows x 24 columns],\n",
       "           id  type  locality  activation_date  latitude  longitude  \\\n",
       " 3096    7066     2      1640             5081  0.300384   0.739451   \n",
       " 10516   2791     2      1320             6607 -0.939059  -0.712600   \n",
       " 15968  13940     3       371            12206 -0.762890   0.331023   \n",
       " 12102    643     1       436               71  1.113591   0.210790   \n",
       " 5469     590     1        87             4375 -1.288185   0.067720   \n",
       " ...      ...   ...       ...              ...       ...        ...   \n",
       " 3105   15357     3       682             4325 -1.044228  -0.001035   \n",
       " 3397     914     1       811            15296 -1.184025  -0.496467   \n",
       " 17898   7748     2       371             7243 -0.652483   0.367288   \n",
       " 872    14584     2       821            18297 -1.366163  -0.418240   \n",
       " 18093   1990     2       893             5882  1.825555  -0.314920   \n",
       " \n",
       "        lease_type       gym      lift  swimming_pool  ...  property_age  \\\n",
       " 3096            3  2.016928  1.395359       2.463712  ...      0.179421   \n",
       " 10516           3 -0.495803 -0.716661      -0.405892  ...     -0.289114   \n",
       " 15968           1  2.016928  1.395359      -0.405892  ...      0.960313   \n",
       " 12102           0 -0.495803 -0.716661      -0.405892  ...     -0.913828   \n",
       " 5469            0 -0.495803 -0.716661      -0.405892  ...     -0.913828   \n",
       " ...           ...       ...       ...            ...  ...           ...   \n",
       " 3105            3 -0.495803  1.395359      -0.405892  ...     -0.913828   \n",
       " 3397            0 -0.495803 -0.716661      -0.405892  ...      0.647956   \n",
       " 17898           0 -0.495803  1.395359      -0.405892  ...      0.647956   \n",
       " 872             1 -0.495803 -0.716661      -0.405892  ...      0.647956   \n",
       " 18093           3 -0.495803  1.395359      -0.405892  ...     -0.601471   \n",
       " \n",
       "        bathroom  facing  cup_board     floor  total_floor  amenities  \\\n",
       " 3096   0.290256       7  -0.007548  0.858514     0.240632       3216   \n",
       " 10516  0.290256       1  -0.007548 -0.401010    -0.176390        701   \n",
       " 15968  0.290256       0   0.004091  0.858514    -0.176390       2845   \n",
       " 12102 -1.221466       1  -0.007548 -1.030772     0.240632        329   \n",
       " 5469  -1.221466       0  -0.010458 -1.030772    -0.176390       4613   \n",
       " ...         ...     ...        ...       ...          ...        ...   \n",
       " 3105   1.801979       1  -0.004639  0.228752    -0.176390       1457   \n",
       " 3397  -1.221466       0  -0.013368  0.228752    -0.176390        701   \n",
       " 17898  0.290256       1  -0.007548 -0.401010    -0.176390       2088   \n",
       " 872   -1.221466       0  -0.010458 -0.401010    -1.010432        623   \n",
       " 18093  1.801979       7  -0.013368  0.228752     0.240632       2168   \n",
       " \n",
       "        water_supply  building_type  balconies  \n",
       " 3096              2              0   0.952323  \n",
       " 10516             1              2  -0.097613  \n",
       " 15968             0              0   0.952323  \n",
       " 12102             2              0  -0.097613  \n",
       " 5469              1              0  -1.147549  \n",
       " ...             ...            ...        ...  \n",
       " 3105              2              2  -0.097613  \n",
       " 3397              1              2  -1.147549  \n",
       " 17898             1              0  -0.097613  \n",
       " 872               1              3  -1.147549  \n",
       " 18093             2              0  -0.097613  \n",
       " \n",
       " [3906 rows x 24 columns],\n",
       " 1691    -0.431098\n",
       " 20063   -0.562781\n",
       " 7492     1.280790\n",
       " 14249    0.227321\n",
       " 3222    -0.036046\n",
       "            ...   \n",
       " 11867   -0.694465\n",
       " 12584    0.622372\n",
       " 5677    -1.352883\n",
       " 906      0.359005\n",
       " 16624   -0.562781\n",
       " Name: rent, Length: 15621, dtype: float64,\n",
       " 3096     0.490688\n",
       " 10516   -0.694465\n",
       " 15968    1.412474\n",
       " 12102    0.227321\n",
       " 5469    -0.562781\n",
       "            ...   \n",
       " 3105     4.177831\n",
       " 3397    -1.221200\n",
       " 17898    0.490688\n",
       " 872     -1.287041\n",
       " 18093    1.807525\n",
       " Name: rent, Length: 3906, dtype: float64)"
      ]
     },
     "execution_count": 29,
     "metadata": {},
     "output_type": "execute_result"
    }
   ],
   "source": [
    "x_train, x_test, y_train, y_test"
   ]
  },
  {
   "cell_type": "code",
   "execution_count": 30,
   "metadata": {},
   "outputs": [],
   "source": [
    "models = {\n",
    "    \"======Linear Regression\": LinearRegression(),\n",
    "    \"======Random Forest\": RandomForestRegressor(),\n",
    "    \"======Gradient Boosting\": GradientBoostingRegressor(),\n",
    "    \"======Neural Network\": MLPRegressor()\n",
    "}"
   ]
  },
  {
   "cell_type": "code",
   "execution_count": 31,
   "metadata": {},
   "outputs": [
    {
     "name": "stdout",
     "output_type": "stream",
     "text": [
      "======Linear Regression MSE: 0.4704321737659817\n",
      "======Random Forest MSE: 0.33427365961693123\n",
      "======Gradient Boosting MSE: 0.35443979534931336\n",
      "======Neural Network MSE: 3.1726459174277197\n"
     ]
    }
   ],
   "source": [
    "# Train and evaluate models\n",
    "for model_name, model in models.items():\n",
    "    model.fit(x_train, y_train)\n",
    "    predictions = model.predict(x_test)\n",
    "    mse = mean_absolute_error(y_test, predictions)\n",
    "    print(f\"{model_name} MSE: {mse}\")"
   ]
  },
  {
   "cell_type": "markdown",
   "metadata": {},
   "source": [
    "#### Hyperparameter Tuning"
   ]
  },
  {
   "cell_type": "code",
   "execution_count": 32,
   "metadata": {},
   "outputs": [],
   "source": [
    "from sklearn.model_selection import GridSearchCV\n",
    "from sklearn.ensemble import RandomForestRegressor"
   ]
  },
  {
   "cell_type": "code",
   "execution_count": 33,
   "metadata": {},
   "outputs": [],
   "source": [
    "# Define the Random Forest Regressor\n",
    "rf_regressor = RandomForestRegressor()\n"
   ]
  },
  {
   "cell_type": "code",
   "execution_count": 34,
   "metadata": {},
   "outputs": [],
   "source": [
    "# Define hyperparameters to tune\n",
    "param_grid = {\n",
    "    'n_estimators': [50, 100, 150],\n",
    "    'max_depth': [None, 10, 20],\n",
    "    'min_samples_split': [2, 5, 10],\n",
    "    'min_samples_leaf': [1, 2, 4]\n",
    "}"
   ]
  },
  {
   "cell_type": "code",
   "execution_count": 35,
   "metadata": {},
   "outputs": [
    {
     "name": "stdout",
     "output_type": "stream",
     "text": [
      "Train error: 0.6615939704159353\n",
      "Test error: 0.6459841925562257\n"
     ]
    }
   ],
   "source": [
    "import seaborn as sns\n",
    "import pandas as pd\n",
    "import matplotlib.pyplot as plt\n",
    "from sklearn.model_selection import train_test_split\n",
    "from sklearn.linear_model import LinearRegression\n",
    "from sklearn.metrics import mean_squared_error\n",
    "import math\n",
    "\n",
    "X = df.drop(['rent'],axis=1)\n",
    "y = df['rent']\n",
    "\n",
    "x_train,x_test,y_train,y_test = train_test_split(X,y)\n",
    "\n",
    "model = LinearRegression()\n",
    "model.fit(x_train,y_train)\n",
    "\n",
    "train_pred = model.predict(x_train)\n",
    "test_pred = model.predict(x_test)\n",
    "\n",
    "print(f\"Train error: {math.sqrt(mean_squared_error(y_train,train_pred))}\")\n",
    "print(f\"Test error: {math.sqrt(mean_squared_error(y_test,test_pred))}\")"
   ]
  },
  {
   "cell_type": "code",
   "execution_count": 36,
   "metadata": {},
   "outputs": [],
   "source": [
    "# Perform GridSearchCV\n",
    "# grid_search = GridSearchCV(estimator=rf_regressor, param_grid=param_grid, scoring='neg_mean_squared_error', cv=3)\n",
    "#grid_search.fit(x_train, y_train)"
   ]
  },
  {
   "cell_type": "code",
   "execution_count": null,
   "metadata": {},
   "outputs": [],
   "source": [
    "#grid_search = GridSearchCV(estimator=rf_regressor, param_grid=param_grid, cv=5)\n",
    "#grid_search.fit(x_train, y_train)\n",
    "#print(\"Best hyperparameters:\", grid_search.best_params_)\n",
    "#best_model = grid_search.best_estimator_\n",
    "#y_pred = best_model.predict(x_test)"
   ]
  },
  {
   "cell_type": "code",
   "execution_count": 38,
   "metadata": {},
   "outputs": [],
   "source": [
    "from sklearn.model_selection import RandomizedSearchCV\n",
    "from sklearn.ensemble import RandomForestRegressor\n",
    "\n",
    "# Define the random forest regressor\n",
    "rf_regressor = RandomForestRegressor()\n",
    "\n",
    "# Create a RandomizedSearchCV object\n",
    "random_search = RandomizedSearchCV(estimator=rf_regressor, param_distributions=param_grid, scoring='neg_mean_squared_error', cv=3, n_iter=10, n_jobs=-1)\n",
    "\n",
    "# Perform the randomized search\n",
    "random_search.fit(x_train, y_train)\n",
    "\n",
    "# Get the best parameters\n",
    "best_params = random_search.best_params_\n"
   ]
  },
  {
   "cell_type": "code",
   "execution_count": 39,
   "metadata": {},
   "outputs": [
    {
     "name": "stdout",
     "output_type": "stream",
     "text": [
      "Best Hyperparameters: {'n_estimators': 150, 'min_samples_split': 2, 'min_samples_leaf': 4, 'max_depth': 20}\n"
     ]
    }
   ],
   "source": [
    "# Print the best hyperparameters\n",
    "best_params = random_search.best_params_\n",
    "print(\"Best Hyperparameters:\", best_params)"
   ]
  },
  {
   "cell_type": "code",
   "execution_count": 40,
   "metadata": {},
   "outputs": [
    {
     "data": {
      "text/html": [
       "<style>#sk-container-id-3 {color: black;}#sk-container-id-3 pre{padding: 0;}#sk-container-id-3 div.sk-toggleable {background-color: white;}#sk-container-id-3 label.sk-toggleable__label {cursor: pointer;display: block;width: 100%;margin-bottom: 0;padding: 0.3em;box-sizing: border-box;text-align: center;}#sk-container-id-3 label.sk-toggleable__label-arrow:before {content: \"▸\";float: left;margin-right: 0.25em;color: #696969;}#sk-container-id-3 label.sk-toggleable__label-arrow:hover:before {color: black;}#sk-container-id-3 div.sk-estimator:hover label.sk-toggleable__label-arrow:before {color: black;}#sk-container-id-3 div.sk-toggleable__content {max-height: 0;max-width: 0;overflow: hidden;text-align: left;background-color: #f0f8ff;}#sk-container-id-3 div.sk-toggleable__content pre {margin: 0.2em;color: black;border-radius: 0.25em;background-color: #f0f8ff;}#sk-container-id-3 input.sk-toggleable__control:checked~div.sk-toggleable__content {max-height: 200px;max-width: 100%;overflow: auto;}#sk-container-id-3 input.sk-toggleable__control:checked~label.sk-toggleable__label-arrow:before {content: \"▾\";}#sk-container-id-3 div.sk-estimator input.sk-toggleable__control:checked~label.sk-toggleable__label {background-color: #d4ebff;}#sk-container-id-3 div.sk-label input.sk-toggleable__control:checked~label.sk-toggleable__label {background-color: #d4ebff;}#sk-container-id-3 input.sk-hidden--visually {border: 0;clip: rect(1px 1px 1px 1px);clip: rect(1px, 1px, 1px, 1px);height: 1px;margin: -1px;overflow: hidden;padding: 0;position: absolute;width: 1px;}#sk-container-id-3 div.sk-estimator {font-family: monospace;background-color: #f0f8ff;border: 1px dotted black;border-radius: 0.25em;box-sizing: border-box;margin-bottom: 0.5em;}#sk-container-id-3 div.sk-estimator:hover {background-color: #d4ebff;}#sk-container-id-3 div.sk-parallel-item::after {content: \"\";width: 100%;border-bottom: 1px solid gray;flex-grow: 1;}#sk-container-id-3 div.sk-label:hover label.sk-toggleable__label {background-color: #d4ebff;}#sk-container-id-3 div.sk-serial::before {content: \"\";position: absolute;border-left: 1px solid gray;box-sizing: border-box;top: 0;bottom: 0;left: 50%;z-index: 0;}#sk-container-id-3 div.sk-serial {display: flex;flex-direction: column;align-items: center;background-color: white;padding-right: 0.2em;padding-left: 0.2em;position: relative;}#sk-container-id-3 div.sk-item {position: relative;z-index: 1;}#sk-container-id-3 div.sk-parallel {display: flex;align-items: stretch;justify-content: center;background-color: white;position: relative;}#sk-container-id-3 div.sk-item::before, #sk-container-id-3 div.sk-parallel-item::before {content: \"\";position: absolute;border-left: 1px solid gray;box-sizing: border-box;top: 0;bottom: 0;left: 50%;z-index: -1;}#sk-container-id-3 div.sk-parallel-item {display: flex;flex-direction: column;z-index: 1;position: relative;background-color: white;}#sk-container-id-3 div.sk-parallel-item:first-child::after {align-self: flex-end;width: 50%;}#sk-container-id-3 div.sk-parallel-item:last-child::after {align-self: flex-start;width: 50%;}#sk-container-id-3 div.sk-parallel-item:only-child::after {width: 0;}#sk-container-id-3 div.sk-dashed-wrapped {border: 1px dashed gray;margin: 0 0.4em 0.5em 0.4em;box-sizing: border-box;padding-bottom: 0.4em;background-color: white;}#sk-container-id-3 div.sk-label label {font-family: monospace;font-weight: bold;display: inline-block;line-height: 1.2em;}#sk-container-id-3 div.sk-label-container {text-align: center;}#sk-container-id-3 div.sk-container {/* jupyter's `normalize.less` sets `[hidden] { display: none; }` but bootstrap.min.css set `[hidden] { display: none !important; }` so we also need the `!important` here to be able to override the default hidden behavior on the sphinx rendered scikit-learn.org. See: https://github.com/scikit-learn/scikit-learn/issues/21755 */display: inline-block !important;position: relative;}#sk-container-id-3 div.sk-text-repr-fallback {display: none;}</style><div id=\"sk-container-id-3\" class=\"sk-top-container\"><div class=\"sk-text-repr-fallback\"><pre>RandomForestRegressor(max_depth=20, min_samples_leaf=4, n_estimators=150)</pre><b>In a Jupyter environment, please rerun this cell to show the HTML representation or trust the notebook. <br />On GitHub, the HTML representation is unable to render, please try loading this page with nbviewer.org.</b></div><div class=\"sk-container\" hidden><div class=\"sk-item\"><div class=\"sk-estimator sk-toggleable\"><input class=\"sk-toggleable__control sk-hidden--visually\" id=\"sk-estimator-id-3\" type=\"checkbox\" checked><label for=\"sk-estimator-id-3\" class=\"sk-toggleable__label sk-toggleable__label-arrow\">RandomForestRegressor</label><div class=\"sk-toggleable__content\"><pre>RandomForestRegressor(max_depth=20, min_samples_leaf=4, n_estimators=150)</pre></div></div></div></div></div>"
      ],
      "text/plain": [
       "RandomForestRegressor(max_depth=20, min_samples_leaf=4, n_estimators=150)"
      ]
     },
     "execution_count": 40,
     "metadata": {},
     "output_type": "execute_result"
    }
   ],
   "source": [
    "# Get the best model\n",
    "best_rf_model = random_search.best_estimator_\n",
    "best_rf_model"
   ]
  },
  {
   "cell_type": "code",
   "execution_count": 41,
   "metadata": {},
   "outputs": [
    {
     "data": {
      "text/plain": [
       "array([ 0.07397169,  1.28478662, -0.19231973, ..., -0.33084943,\n",
       "        0.56367661, -0.59307165])"
      ]
     },
     "execution_count": 41,
     "metadata": {},
     "output_type": "execute_result"
    }
   ],
   "source": [
    "# Make predictions on the test set\n",
    "predictions = best_rf_model.predict(x_test)\n",
    "predictions"
   ]
  },
  {
   "cell_type": "code",
   "execution_count": 42,
   "metadata": {},
   "outputs": [
    {
     "name": "stdout",
     "output_type": "stream",
     "text": [
      "Best Random Forest Model MSE on Test Set: 0.21690964090602044\n"
     ]
    }
   ],
   "source": [
    "# Evaluate the model using Mean Squared Error\n",
    "from sklearn.metrics import mean_squared_error\n",
    "mse = mean_squared_error(y_test, predictions)\n",
    "print(f'Best Random Forest Model MSE on Test Set: {mse}')"
   ]
  },
  {
   "cell_type": "markdown",
   "metadata": {},
   "source": [
    "### Interpretability and Explainability:"
   ]
  },
  {
   "cell_type": "code",
   "execution_count": 43,
   "metadata": {},
   "outputs": [
    {
     "data": {
      "text/plain": [
       "array([0.01693514, 0.01934052, 0.01519573, 0.015226  , 0.04510026,\n",
       "       0.14613334, 0.00312541, 0.00066651, 0.00382083, 0.00229508,\n",
       "       0.0019405 , 0.01316583, 0.01042806, 0.5906886 , 0.0140938 ,\n",
       "       0.03149206, 0.00488977, 0.00703387, 0.005281  , 0.01954992,\n",
       "       0.02128789, 0.00301831, 0.0052624 , 0.00402915])"
      ]
     },
     "execution_count": 43,
     "metadata": {},
     "output_type": "execute_result"
    }
   ],
   "source": [
    "# Extract feature importances from the best random forest model\n",
    "\n",
    "feature_importance = best_rf_model.feature_importances_\n",
    "feature_importance"
   ]
  },
  {
   "cell_type": "code",
   "execution_count": 44,
   "metadata": {},
   "outputs": [
    {
     "data": {
      "text/plain": [
       "Index(['id', 'type', 'locality', 'activation_date', 'latitude', 'longitude',\n",
       "       'lease_type', 'gym', 'lift', 'swimming_pool', 'negotiable',\n",
       "       'furnishing', 'parking', 'property_size', 'property_age', 'bathroom',\n",
       "       'facing', 'cup_board', 'floor', 'total_floor', 'amenities',\n",
       "       'water_supply', 'building_type', 'balconies'],\n",
       "      dtype='object')"
      ]
     },
     "execution_count": 44,
     "metadata": {},
     "output_type": "execute_result"
    }
   ],
   "source": [
    "# Get the fetures name\n",
    "\n",
    "feature_names = x_train.columns\n",
    "feature_names"
   ]
  },
  {
   "cell_type": "code",
   "execution_count": 45,
   "metadata": {},
   "outputs": [
    {
     "data": {
      "text/plain": [
       "array([13,  5,  4, 15, 20, 19,  1,  0,  3,  2, 14, 11, 12, 17, 18, 22, 16,\n",
       "       23,  8,  6, 21,  9, 10,  7], dtype=int64)"
      ]
     },
     "execution_count": 45,
     "metadata": {},
     "output_type": "execute_result"
    }
   ],
   "source": [
    "# sort feature importance in descending order\n",
    "\n",
    "indices = feature_importance.argsort()[::-1]\n",
    "indices "
   ]
  },
  {
   "cell_type": "code",
   "execution_count": 46,
   "metadata": {},
   "outputs": [],
   "source": [
    "# Saving the model\n",
    "import pickle\n",
    "with open('best_params.pkl', 'wb') as file:\n",
    "    pickle.dump(best_params, file)\n",
    "with open('scaler.pkl', 'wb') as f:\n",
    "    pickle.dump(scaler, f)\n",
    "with open('best_rf_model.pkl', 'wb') as file:\n",
    "    pickle.dump(best_rf_model, file)\n"
   ]
  },
  {
   "cell_type": "code",
   "execution_count": 47,
   "metadata": {},
   "outputs": [
    {
     "data": {
      "image/png": "[encoded data removed]",
      "text/plain": [
       "<Figure size 1000x600 with 1 Axes>"
      ]
     },
     "metadata": {},
     "output_type": "display_data"
    }
   ],
   "source": [
    "# Plot the feature importances\n",
    "plt.figure(figsize=(10, 6))\n",
    "plt.bar(range(x_train.shape[1]), feature_importance[indices], align=\"center\")\n",
    "plt.xticks(range(x_train.shape[1]), feature_names[indices], rotation=45)\n",
    "plt.xlabel(\"Feature\")\n",
    "plt.ylabel(\"Importance\")\n",
    "plt.title(\"Random Forest Feature Importance\")\n",
    "plt.show()"
   ]
  }
 ],
 "metadata": {
  "kernelspec": {
   "display_name": "base",
   "language": "python",
   "name": "python3"
  },
  "language_info": {
   "codemirror_mode": {
    "name": "ipython",
    "version": 3
   },
   "file_extension": ".py",
   "mimetype": "text/x-python",
   "name": "python",
   "nbconvert_exporter": "python",
   "pygments_lexer": "ipython3",
   "version": "3.11.5"
  }
 },
 "nbformat": 4,
 "nbformat_minor": 2
}
